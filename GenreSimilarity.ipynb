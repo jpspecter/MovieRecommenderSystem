{
 "cells": [
  {
   "cell_type": "code",
   "execution_count": 1,
   "metadata": {},
   "outputs": [],
   "source": [
    "import pandas as pd\n",
    "import numpy as np\n",
    "import matplotlib.pyplot as plt\n",
    "from itertools import combinations \n",
    "import csv"
   ]
  },
  {
   "cell_type": "code",
   "execution_count": null,
   "metadata": {},
   "outputs": [],
   "source": [
    "with open('Data/ratings.dat') as dat_file, open('Data/ratings.csv', 'w') as csv_file:\n",
    "    csv_writer = csv.writer(csv_file)\n",
    "\n",
    "    for line in dat_file:\n",
    "        row = [field.strip() for field in line.split('::')]\n",
    "        csv_writer.writerow(row)\n",
    "\n",
    "ratings = pd.read_csv('Data/ratings.csv', sep=',', encoding='latin-1')\n",
    "ratings.columns = ['user_id', 'movie_id', 'rating', 'timestamp']\n",
    "print(ratings.sample)"
   ]
  },
  {
   "cell_type": "code",
   "execution_count": null,
   "metadata": {},
   "outputs": [],
   "source": [
    "with open('Data/movies.dat') as dat_file, open('Data/movies.csv', 'w') as csv_file:\n",
    "    csv_writer = csv.writer(csv_file)\n",
    "\n",
    "    for line in dat_file:\n",
    "        row = [field.strip() for field in line.split('::')]\n",
    "        csv_writer.writerow(row)\n",
    "\n",
    "movies = pd.read_csv('Data/movies.csv', sep=',', encoding='latin-1')\n",
    "movies.columns = ['movie_id', 'title', 'genre']\n",
    "print(movies.sample)"
   ]
  },
  {
   "cell_type": "code",
   "execution_count": null,
   "metadata": {},
   "outputs": [],
   "source": [
    "with open('Data/users.dat') as dat_file, open('Data/users.csv', 'w') as csv_file:\n",
    "    csv_writer = csv.writer(csv_file)\n",
    "\n",
    "    for line in dat_file:\n",
    "        row = [field.strip() for field in line.split('::')]\n",
    "        csv_writer.writerow(row)\n",
    "\n",
    "users = pd.read_csv('Data/users.csv', sep=',', encoding='latin-1')\n",
    "users.columns = ['user_id', 'gender', 'age', 'occupation', 'zip_code']\n",
    "print(users.sample)"
   ]
  },
  {
   "cell_type": "code",
   "execution_count": null,
   "metadata": {},
   "outputs": [],
   "source": [
    "genre_popularity = (movies.genre.str.split('|')\n",
    "                      .explode()\n",
    "                      .value_counts()\n",
    "                      .sort_values(ascending=False))\n",
    "genre_popularity.head(10)"
   ]
  },
  {
   "cell_type": "code",
   "execution_count": null,
   "metadata": {},
   "outputs": [],
   "source": [
    "from sklearn.feature_extraction.text import TfidfVectorizer"
   ]
  },
  {
   "cell_type": "code",
   "execution_count": null,
   "metadata": {},
   "outputs": [],
   "source": [
    "tf = TfidfVectorizer(analyzer=lambda s: (c for i in range(1,4)\n",
    "                                             for c in combinations(s.split('|'), r=i)))\n",
    "tfidf_matrix = tf.fit_transform(movies['genre'])\n",
    "tfidf_matrix.shape"
   ]
  },
  {
   "cell_type": "code",
   "execution_count": null,
   "metadata": {},
   "outputs": [],
   "source": [
    "pd.DataFrame(tfidf_matrix.todense(), columns=tf.get_feature_names(), index=movies.title).sample(5, axis=1).sample(10, axis=0)"
   ]
  },
  {
   "cell_type": "code",
   "execution_count": null,
   "metadata": {},
   "outputs": [],
   "source": [
    "from sklearn.metrics.pairwise import cosine_similarity\n",
    "cosine_sim = cosine_similarity(tfidf_matrix)"
   ]
  },
  {
   "cell_type": "code",
   "execution_count": null,
   "metadata": {},
   "outputs": [],
   "source": [
    "cosine_sim_df = pd.DataFrame(cosine_sim, index=movies['title'], columns=movies['title'])\n",
    "print(cosine_sim_df.shape)\n",
    "cosine_sim_df.sample(5, axis=1).round(2)"
   ]
  },
  {
   "cell_type": "code",
   "execution_count": null,
   "metadata": {},
   "outputs": [],
   "source": [
    "def genre_recommendations(i, M, items, k=10):\n",
    "    ix = M.loc[:,i].to_numpy().argpartition(range(-1,-k,-1))\n",
    "    closest = M.columns[ix[-1:-(k+2):-1]]\n",
    "    closest = closest.drop(i, errors='ignore')\n",
    "    return pd.DataFrame(closest).merge(items).head(k)"
   ]
  },
  {
   "cell_type": "code",
   "execution_count": 15,
   "metadata": {},
   "outputs": [
    {
     "data": {
      "text/html": [
       "<div>\n",
       "<style scoped>\n",
       "    .dataframe tbody tr th:only-of-type {\n",
       "        vertical-align: middle;\n",
       "    }\n",
       "\n",
       "    .dataframe tbody tr th {\n",
       "        vertical-align: top;\n",
       "    }\n",
       "\n",
       "    .dataframe thead th {\n",
       "        text-align: right;\n",
       "    }\n",
       "</style>\n",
       "<table border=\"1\" class=\"dataframe\">\n",
       "  <thead>\n",
       "    <tr style=\"text-align: right;\">\n",
       "      <th></th>\n",
       "      <th>title</th>\n",
       "      <th>genre</th>\n",
       "    </tr>\n",
       "  </thead>\n",
       "  <tbody>\n",
       "    <tr>\n",
       "      <th>0</th>\n",
       "      <td>X-Files: Fight the Future, The (1998)</td>\n",
       "      <td>Mystery|Sci-Fi|Thriller</td>\n",
       "    </tr>\n",
       "    <tr>\n",
       "      <th>1</th>\n",
       "      <td>Client, The (1994)</td>\n",
       "      <td>Drama|Mystery|Thriller</td>\n",
       "    </tr>\n",
       "    <tr>\n",
       "      <th>2</th>\n",
       "      <td>Talented Mr. Ripley, The (1999)</td>\n",
       "      <td>Drama|Mystery|Thriller</td>\n",
       "    </tr>\n",
       "    <tr>\n",
       "      <th>3</th>\n",
       "      <td>Communion (1989)</td>\n",
       "      <td>Drama|Sci-Fi|Thriller</td>\n",
       "    </tr>\n",
       "    <tr>\n",
       "      <th>4</th>\n",
       "      <td>Gattaca (1997)</td>\n",
       "      <td>Drama|Sci-Fi|Thriller</td>\n",
       "    </tr>\n",
       "    <tr>\n",
       "      <th>5</th>\n",
       "      <td>Thirteenth Floor, The (1999)</td>\n",
       "      <td>Drama|Sci-Fi|Thriller</td>\n",
       "    </tr>\n",
       "    <tr>\n",
       "      <th>6</th>\n",
       "      <td>Event Horizon (1997)</td>\n",
       "      <td>Action|Mystery|Sci-Fi|Thriller</td>\n",
       "    </tr>\n",
       "    <tr>\n",
       "      <th>7</th>\n",
       "      <td>2010 (1984)</td>\n",
       "      <td>Mystery|Sci-Fi</td>\n",
       "    </tr>\n",
       "    <tr>\n",
       "      <th>8</th>\n",
       "      <td>Stalker (1979)</td>\n",
       "      <td>Mystery|Sci-Fi</td>\n",
       "    </tr>\n",
       "    <tr>\n",
       "      <th>9</th>\n",
       "      <td>Deep Impact (1998)</td>\n",
       "      <td>Action|Drama|Sci-Fi|Thriller</td>\n",
       "    </tr>\n",
       "  </tbody>\n",
       "</table>\n",
       "</div>"
      ],
      "text/plain": [
       "                                   title                           genre\n",
       "0  X-Files: Fight the Future, The (1998)         Mystery|Sci-Fi|Thriller\n",
       "1                     Client, The (1994)          Drama|Mystery|Thriller\n",
       "2        Talented Mr. Ripley, The (1999)          Drama|Mystery|Thriller\n",
       "3                       Communion (1989)           Drama|Sci-Fi|Thriller\n",
       "4                         Gattaca (1997)           Drama|Sci-Fi|Thriller\n",
       "5           Thirteenth Floor, The (1999)           Drama|Sci-Fi|Thriller\n",
       "6                   Event Horizon (1997)  Action|Mystery|Sci-Fi|Thriller\n",
       "7                            2010 (1984)                  Mystery|Sci-Fi\n",
       "8                         Stalker (1979)                  Mystery|Sci-Fi\n",
       "9                     Deep Impact (1998)    Action|Drama|Sci-Fi|Thriller"
      ]
     },
     "execution_count": 15,
     "metadata": {},
     "output_type": "execute_result"
    }
   ],
   "source": [
    "genre_recommendations('2001: A Space Odyssey (1968)', cosine_sim_df, movies[['title', 'genre']])"
   ]
  }
 ],
 "metadata": {
  "interpreter": {
   "hash": "12203f4631f1c8a04127b7540e373e2eec32b1de98b5a481febbb709a77e5f64"
  },
  "kernelspec": {
   "display_name": "Python 3.9.2 64-bit",
   "language": "python",
   "name": "python3"
  },
  "language_info": {
   "codemirror_mode": {
    "name": "ipython",
    "version": 3
   },
   "file_extension": ".py",
   "mimetype": "text/x-python",
   "name": "python",
   "nbconvert_exporter": "python",
   "pygments_lexer": "ipython3",
   "version": "3.9.2"
  },
  "orig_nbformat": 4
 },
 "nbformat": 4,
 "nbformat_minor": 2
}
