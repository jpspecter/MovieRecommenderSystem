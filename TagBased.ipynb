{
 "cells": [
  {
   "cell_type": "code",
   "execution_count": 1,
   "metadata": {},
   "outputs": [],
   "source": [
    "import pandas as pd\n",
    "import numpy as np\n",
    "import matplotlib.pyplot as plt\n",
    "from itertools import combinations \n",
    "import csv\n",
    "import collections\n",
    "import numpy\n",
    "import sys\n",
    "numpy.set_printoptions(threshold=sys.maxsize)\n",
    "from sklearn.model_selection import train_test_split"
   ]
  },
  {
   "cell_type": "code",
   "execution_count": null,
   "metadata": {},
   "outputs": [],
   "source": [
    "# with open('Output/ratings.dat', encoding='utf8') as dat_file, open('Output/ratings.csv', 'w') as csv_file:\n",
    "#     csv_writer = csv.writer(csv_file)\n",
    "\n",
    "#     for line in dat_file:\n",
    "#         row = [field.strip() for field in line.split('::')]\n",
    "#         csv_writer.writerow(row)\n",
    "\n",
    "# ratings = pd.read_csv('Output/ratings.csv', sep=',', encoding='latin-1')\n",
    "# ratings.columns = ['user_id', 'movie_id', 'rating', 'timestamp']\n",
    "# print(ratings.sample)"
   ]
  },
  {
   "cell_type": "code",
   "execution_count": null,
   "metadata": {},
   "outputs": [],
   "source": [
    "# ratings_train, ratings_test = train_test_split(ratings, test_size=0.1)"
   ]
  },
  {
   "cell_type": "code",
   "execution_count": null,
   "metadata": {},
   "outputs": [],
   "source": [
    "# print(len(ratings_train))\n",
    "# print(len(ratings_test))"
   ]
  },
  {
   "cell_type": "code",
   "execution_count": 2,
   "metadata": {},
   "outputs": [],
   "source": [
    "with open('Output/movies.dat', encoding='utf8') as dat_file, open('Output/movies.csv', 'w') as csv_file:\n",
    "    csv_writer = csv.writer(csv_file)\n",
    "\n",
    "    for line in dat_file:\n",
    "        row = [field.strip() for field in line.split('::')]\n",
    "        csv_writer.writerow(row)\n",
    "\n",
    "movies = pd.read_csv('Output/movies.csv', sep=',', encoding='latin-1')\n",
    "movies.columns = ['movie_id', 'title', 'genre']\n",
    "#print(movies.sample)"
   ]
  },
  {
   "cell_type": "code",
   "execution_count": 3,
   "metadata": {},
   "outputs": [],
   "source": [
    "with open('Output/tags.dat', encoding='utf8') as dat_file, open('Output/tags.csv', 'w') as csv_file:\n",
    "    csv_writer = csv.writer(csv_file)\n",
    "\n",
    "    for line in dat_file:\n",
    "        row = [field.strip() for field in line.split('::')]\n",
    "        csv_writer.writerow(row)\n",
    "\n",
    "tags = pd.read_csv('Output/tags.csv', sep=',', encoding='latin-1')\n",
    "tags.columns = ['user_id', 'movie_id', 'tags', 'timestamp']\n",
    "#print(tags.head)"
   ]
  },
  {
   "cell_type": "code",
   "execution_count": 4,
   "metadata": {},
   "outputs": [],
   "source": [
    "tags['tags'] = tags['tags'].str.lower()\n"
   ]
  },
  {
   "cell_type": "code",
   "execution_count": 5,
   "metadata": {},
   "outputs": [],
   "source": [
    "counts_dict = {}\n",
    "movies_dict = dict()\n",
    "tags_list = []"
   ]
  },
  {
   "cell_type": "code",
   "execution_count": 6,
   "metadata": {},
   "outputs": [],
   "source": [
    "for t in tags['tags'].tolist():\n",
    "    tags_list.append(t)"
   ]
  },
  {
   "cell_type": "code",
   "execution_count": 7,
   "metadata": {},
   "outputs": [],
   "source": [
    "for ix in tags.index:\n",
    "    key = tags.loc[ix]['movie_id']\n",
    "    if key not in movies_dict:\n",
    "        movies_dict[key] = []\n",
    "    movies_dict[key].append(tags.loc[ix]['tags'])"
   ]
  },
  {
   "cell_type": "code",
   "execution_count": 8,
   "metadata": {},
   "outputs": [],
   "source": [
    "for tag in tags_list:\n",
    "    counts_dict[tag] = counts_dict.get(tag, 0) + 1"
   ]
  },
  {
   "cell_type": "code",
   "execution_count": 9,
   "metadata": {},
   "outputs": [
    {
     "name": "stdout",
     "output_type": "stream",
     "text": [
      "1000\n"
     ]
    }
   ],
   "source": [
    "counts_dict_sorted = sorted(counts_dict, key=counts_dict.get, reverse=True)\n",
    "top_1000_counts = counts_dict_sorted[0:1000]\n",
    "print(len(top_1000_counts))"
   ]
  },
  {
   "cell_type": "code",
   "execution_count": 10,
   "metadata": {},
   "outputs": [],
   "source": [
    "with open('Output/top1000counts.txt', 'w') as f:\n",
    "    print(top_1000_counts, file=f)"
   ]
  },
  {
   "cell_type": "code",
   "execution_count": 11,
   "metadata": {},
   "outputs": [],
   "source": [
    "with open('Output/moviesdict.txt', 'w') as f:\n",
    "    print(movies_dict, file=f)"
   ]
  },
  {
   "cell_type": "code",
   "execution_count": 12,
   "metadata": {},
   "outputs": [],
   "source": [
    "movies_concepts_array = np.zeros(shape=(len(movies_dict), len(top_1000_counts)))\n",
    "row_number = -1\n",
    "for movie in movies_dict:\n",
    "    row_number = row_number + 1\n",
    "    col_number = -1\n",
    "    concepts_list = movies_dict[movie]\n",
    "    for concept in top_1000_counts:\n",
    "        col_number = col_number + 1\n",
    "        if concept in concepts_list:\n",
    "            movies_concepts_array[row_number][col_number] = 1"
   ]
  },
  {
   "cell_type": "code",
   "execution_count": 13,
   "metadata": {},
   "outputs": [],
   "source": [
    "with open('Output/moviesconceptsarray.txt', 'w') as f:\n",
    "    print(movies_concepts_array, file=f)\n",
    "    # for line in movies_concepts_array:\n",
    "    #     numpy.savetxt(f, line, fmt='%.2f')"
   ]
  },
  {
   "cell_type": "code",
   "execution_count": 12,
   "metadata": {},
   "outputs": [],
   "source": [
    "# from scipy import spatial\n",
    "\n",
    "# def cosine_similarity(movie_1, movie_2):\n",
    "#     movie_num_1 = list(movies_dict).index(movie_1)\n",
    "#     movie_num_2 = list(movies_dict).index(movie_2)\n",
    "#     result = 1- spatial.distance.cosine(movies_concepts_array[movie_num_1], movies_concepts_array[movie_num_2])\n",
    "#     return result"
   ]
  },
  {
   "cell_type": "code",
   "execution_count": 13,
   "metadata": {},
   "outputs": [],
   "source": [
    "from numpy import dot\n",
    "from numpy.linalg import norm\n",
    "\n",
    "def cosine_sim(movie_1, movie_2):\n",
    "    if movie_1 not in movies_dict or movie_2 not in movies_dict:\n",
    "        return 0\n",
    "    movie_num_1 = list(movies_dict).index(movie_1)\n",
    "    movie_num_2 = list(movies_dict).index(movie_2)\n",
    "    a = movies_concepts_array[movie_num_1]\n",
    "    b = movies_concepts_array[movie_num_2]\n",
    "    if norm(a) == 0 or norm(b) == 0:\n",
    "        return 0\n",
    "    cos_sim = dot(a, b)/(norm(a)*norm(b))\n",
    "    return cos_sim\n"
   ]
  },
  {
   "cell_type": "code",
   "execution_count": 15,
   "metadata": {},
   "outputs": [],
   "source": [
    "users_dict = dict()"
   ]
  },
  {
   "cell_type": "code",
   "execution_count": 19,
   "metadata": {},
   "outputs": [],
   "source": [
    "ratings__grouped = ratings_train.groupby('user_id')"
   ]
  },
  {
   "cell_type": "code",
   "execution_count": 20,
   "metadata": {},
   "outputs": [],
   "source": [
    "ratings_matrix = np.zeros(shape=(len(ratings_grouped), len(movies_dict)))\n",
    "key = 0\n",
    "row = -1\n",
    "existing_users = []\n",
    "for ix in ratings_train.index:\n",
    "    user_id = ratings_train.loc[ix]['user_id']\n",
    "    if user_id not in existing_users:\n",
    "        existing_users.append(user_id)\n",
    "        row = row + 1\n",
    "        users_dict[user_id] = row\n",
    "\n",
    "    movie_id = ratings_train.loc[ix]['movie_id']\n",
    "    ratings_val = ratings_train.loc[ix]['rating']\n",
    "\n",
    "    if movie_id in movies_dict:\n",
    "        col = list(movies_dict).index(movie_id)\n",
    "        ratings_matrix[row][col] = ratings_val"
   ]
  },
  {
   "cell_type": "code",
   "execution_count": null,
   "metadata": {},
   "outputs": [],
   "source": [
    "with open('ratings-matrix.txt', 'w') as f:\n",
    "    print(ratings_matrix, file=f)"
   ]
  },
  {
   "cell_type": "code",
   "execution_count": 24,
   "metadata": {},
   "outputs": [],
   "source": [
    "def ratings_prediction(movie_id, user_id):\n",
    "\n",
    "    if movie_id not in movies_dict:\n",
    "        return 0\n",
    "    if user_id not in users_dict:\n",
    "        return 0\n",
    "    \n",
    "    pred_rating = 0\n",
    "\n",
    "    user_ix = list(users_dict).index(user_id)\n",
    "\n",
    "    for key, value in movies_dict.items():\n",
    "        if key == movie_id:\n",
    "            continue\n",
    "        else:\n",
    "            movie_ix = list(movies_dict).index(key)\n",
    "            movie_sim = cosine_sim(key, movie_id)\n",
    "            if movie_sim != 0:\n",
    "                if ratings_small_matrix[user_ix][movie_ix] != 0:\n",
    "                    print(key)\n",
    "                pred_rating = pred_rating + movie_sim * ratings_small_matrix[user_ix][movie_ix]\n",
    "    \n",
    "    return pred_rating"
   ]
  },
  {
   "cell_type": "code",
   "execution_count": null,
   "metadata": {},
   "outputs": [],
   "source": [
    "predicted_ratings = []\n",
    "actual_ratings = []\n",
    "#calculating accuracy\n",
    "for ix in ratings_test.index:\n",
    "    test_values = ratings_small_test.loc[ix]\n",
    "    test_movie_id = test_values['movie_id']\n",
    "    test_user_id = test_values['user_id']\n",
    "    test_rating = test_values['rating'] \n",
    "    predicted_rating = ratings_prediction(test_movie_id, test_user_id) \n",
    "    #print(predicted_rating)\n",
    "    if predicted_rating != 0:\n",
    "        predicted_ratings.append(predicted_rating)\n",
    "        actual_ratings.append(actual_ratings)"
   ]
  },
  {
   "cell_type": "code",
   "execution_count": null,
   "metadata": {},
   "outputs": [],
   "source": [
    "correct = 0\n",
    "total = 0\n",
    "for i in range(len(actual_rating_list)):\n",
    "    if actual_rating_list[i] == round(pred_rating_list[i]):\n",
    "        correct = correct + 1\n",
    "    total = total + 1"
   ]
  },
  {
   "cell_type": "code",
   "execution_count": null,
   "metadata": {},
   "outputs": [],
   "source": [
    "#Accuracy\n",
    "print(correct/total)"
   ]
  },
  {
   "cell_type": "code",
   "execution_count": 28,
   "metadata": {},
   "outputs": [
    {
     "name": "stdout",
     "output_type": "stream",
     "text": [
      "['campy', 'arnold schwarzenegger', 'a legend', 'good action', 'must see!', 'so funny', 'tense', 'actio', 'arnold schwarzenegger', 'mark l. lester', 'campy', 'arnold schwarzenegger', 'a legend', 'good action', 'must see!', 'so funny', 'tense', 'actio', 'arnold schwarzenegger', 'mark l. lester', 'daring rescues', 'earnest', 'forceful', 'gritty', 'menacing', 'race against time', 'rousing', 'tense', 'visceral', 'bad guy dresses gay', 'camp', 'hostage', 'murder', 'plot point:time is short', 'friday night movie']\n"
     ]
    }
   ],
   "source": [
    "# LOW SIMILARITY VALUES DUE TO A LOT OF UNIQUE TAGS \n",
    "# print(ratings_prediction(6664, 18))\n",
    "# tags_list = movies_dict[6664]\n",
    "# print(tags_list)\n",
    "# print(cosine_sim(339, 300))"
   ]
  },
  {
   "cell_type": "code",
   "execution_count": 48,
   "metadata": {},
   "outputs": [],
   "source": [
    "with open('predicted-ratings.txt', 'w') as f:\n",
    "    for p in predicted_ratings:\n",
    "        print(p, file=f)"
   ]
  },
  {
   "cell_type": "code",
   "execution_count": null,
   "metadata": {},
   "outputs": [],
   "source": [
    "with open('actual-ratings.txt', 'w') as f:\n",
    "    for a in actual_ratings:\n",
    "        print(a, file=f)"
   ]
  }
 ],
 "metadata": {
  "interpreter": {
   "hash": "12203f4631f1c8a04127b7540e373e2eec32b1de98b5a481febbb709a77e5f64"
  },
  "kernelspec": {
   "display_name": "Python 3.9.2 64-bit",
   "language": "python",
   "name": "python3"
  },
  "language_info": {
   "codemirror_mode": {
    "name": "ipython",
    "version": 3
   },
   "file_extension": ".py",
   "mimetype": "text/x-python",
   "name": "python",
   "nbconvert_exporter": "python",
   "pygments_lexer": "ipython3",
   "version": "3.9.2"
  },
  "orig_nbformat": 4
 },
 "nbformat": 4,
 "nbformat_minor": 2
}
